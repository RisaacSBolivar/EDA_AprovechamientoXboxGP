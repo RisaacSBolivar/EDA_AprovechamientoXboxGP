{
 "cells": [
  {
   "cell_type": "markdown",
   "metadata": {},
   "source": [
    "# Análisis sobre la rentabilidad del servicio de Xbox Game Pass en función de las horas de juego dedicadas por título (2022)\n",
    "Este notebook presenta un análisis exploratorio de datos del catálogo de videojuegos disponibles en Xbox Game Pass durante 2022. El objetivo es evaluar si los usuarios aprovechan este servicio para jugar títulos populares y aclamados por la crítica. Para ello, se utilizan las valoraciones de Metacritic, un sitio reconocido por integrar opiniones tanto de críticos como de jugadores, como referencia para identificar los títulos de mayor calidad disponibles en la plataforma."
   ]
  }
 ],
 "metadata": {
  "kernelspec": {
   "display_name": "Python 3",
   "language": "python",
   "name": "python3"
  },
  "language_info": {
   "name": "python",
   "version": "3.11.5"
  }
 },
 "nbformat": 4,
 "nbformat_minor": 2
}
